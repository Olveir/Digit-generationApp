{
  "nbformat": 4,
  "nbformat_minor": 0,
  "metadata": {
    "colab": {
      "provenance": [],
      "authorship_tag": "ABX9TyNaKi07+599/Yr5o9d+f0v4",
      "include_colab_link": true
    },
    "kernelspec": {
      "name": "python3",
      "display_name": "Python 3"
    },
    "language_info": {
      "name": "python"
    }
  },
  "cells": [
    {
      "cell_type": "markdown",
      "metadata": {
        "id": "view-in-github",
        "colab_type": "text"
      },
      "source": [
        "<a href=\"https://colab.research.google.com/github/Olveir/Digit-generationApp/blob/main/training_script.ipynb\" target=\"_parent\"><img src=\"https://colab.research.google.com/assets/colab-badge.svg\" alt=\"Open In Colab\"/></a>"
      ]
    },
    {
      "cell_type": "code",
      "source": [
        "# Train a model from scratch on MNIST and save it\n",
        "import torch\n",
        "import torch.nn as nn\n",
        "import torch.optim as optim\n",
        "from torchvision import datasets, transforms\n",
        "import matplotlib.pyplot as plt\n",
        "import os\n",
        "\n",
        "# Set up data\n",
        "transform = transforms.ToTensor()\n",
        "trainset = datasets.MNIST(root='./data', train=True, download=True, transform=transform)\n",
        "trainloader = torch.utils.data.DataLoader(trainset, batch_size=64, shuffle=True)\n",
        "\n",
        "# Define a simple CNN\n",
        "class DigitGenerator(nn.Module):\n",
        "    def __init__(self):\n",
        "        super().__init__()\n",
        "        self.encoder = nn.Sequential(\n",
        "            nn.Linear(28 * 28, 256),\n",
        "            nn.ReLU(),\n",
        "            nn.Linear(256, 64)\n",
        "        )\n",
        "        self.decoder = nn.Sequential(\n",
        "            nn.Linear(64 + 10, 256),\n",
        "            nn.ReLU(),\n",
        "            nn.Linear(256, 28 * 28),\n",
        "            nn.Sigmoid()\n",
        "        )\n",
        "\n",
        "    def forward(self, x, labels):\n",
        "        x = self.encoder(x.view(-1, 28 * 28))\n",
        "        x = torch.cat([x, labels], dim=1)\n",
        "        x = self.decoder(x)\n",
        "        return x.view(-1, 1, 28, 28)\n",
        "\n",
        "model = DigitGenerator()\n",
        "criterion = nn.MSELoss()\n",
        "optimizer = optim.Adam(model.parameters(), lr=0.001)\n",
        "\n",
        "# One-hot encoding for labels\n",
        "def one_hot(labels, num_classes=10):\n",
        "    return torch.eye(num_classes)[labels]\n",
        "\n",
        "# Train\n",
        "for epoch in range(5):\n",
        "    for images, labels in trainloader:\n",
        "        labels_onehot = one_hot(labels)\n",
        "        outputs = model(images, labels_onehot)\n",
        "        loss = criterion(outputs, images)\n",
        "        optimizer.zero_grad()\n",
        "        loss.backward()\n",
        "        optimizer.step()\n",
        "    print(f\"Epoch {epoch+1}, Loss: {loss.item():.4f}\")\n",
        "\n",
        "# Save model\n",
        "os.makedirs(\"models\", exist_ok=True)\n",
        "torch.save(model.state_dict(), \"models/mnist_generator.pth\")\n"
      ],
      "metadata": {
        "colab": {
          "base_uri": "https://localhost:8080/"
        },
        "id": "HtG1wT6aGk86",
        "outputId": "814d0e2c-2f63-4f9f-b84c-0c9beb258f30"
      },
      "execution_count": 10,
      "outputs": [
        {
          "output_type": "stream",
          "name": "stderr",
          "text": [
            "100%|██████████| 9.91M/9.91M [00:00<00:00, 34.7MB/s]\n",
            "100%|██████████| 28.9k/28.9k [00:00<00:00, 1.19MB/s]\n",
            "100%|██████████| 1.65M/1.65M [00:00<00:00, 9.89MB/s]\n",
            "100%|██████████| 4.54k/4.54k [00:00<00:00, 4.38MB/s]\n"
          ]
        },
        {
          "output_type": "stream",
          "name": "stdout",
          "text": [
            "Epoch 1, Loss: 0.0132\n",
            "Epoch 2, Loss: 0.0075\n",
            "Epoch 3, Loss: 0.0060\n",
            "Epoch 4, Loss: 0.0055\n",
            "Epoch 5, Loss: 0.0045\n"
          ]
        }
      ]
    }
  ]
}